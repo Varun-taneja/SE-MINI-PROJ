{
  "cells": [
    {
      "cell_type": "code",
      "execution_count": null,
      "metadata": {
        "id": "IowZXXDpTeDu"
      },
      "outputs": [],
      "source": [
        "import numpy as np\n",
        "import pandas as pd \n",
        "import matplotlib.pyplot as plt\n",
        "%matplotlib inline\n",
        "import seaborn as sns"
      ]
    },
    {
      "cell_type": "code",
      "execution_count": null,
      "metadata": {
        "id": "PCLXCSH2TeED"
      },
      "outputs": [],
      "source": [
        "eda = pd.read_csv('census-data.csv')"
      ]
    },
    {
      "cell_type": "code",
      "execution_count": null,
      "metadata": {
        "id": "TZgqD3AKTeEG",
        "outputId": "885df96b-7744-4f34-8d42-d3c433467daa"
      },
      "outputs": [],
      "source": [
        "eda.head()\n"
      ]
    },
    {
      "cell_type": "code",
      "execution_count": null,
      "metadata": {
        "id": "Fep_14KPTeEL",
        "outputId": "9dca3de0-067e-45f3-f269-f54d0a343600"
      },
      "outputs": [],
      "source": [
        "eda.tail()"
      ]
    },
    {
      "cell_type": "code",
      "execution_count": null,
      "metadata": {
        "id": "zu9CA3yxTeEP",
        "outputId": "1b82256c-1504-4008-884d-4b5ccd3b9539"
      },
      "outputs": [],
      "source": [
        "eda.describe()"
      ]
    },
    {
      "cell_type": "code",
      "execution_count": null,
      "metadata": {
        "id": "3GuDj0BpTeER",
        "outputId": "a23d3b81-c697-444e-987e-4c1e87312754"
      },
      "outputs": [],
      "source": [
        "eda.info()"
      ]
    },
    {
      "cell_type": "code",
      "execution_count": null,
      "metadata": {
        "id": "nSZ24UvHTeEe",
        "outputId": "60c82f23-f892-4702-a01d-6fda146651bb"
      },
      "outputs": [],
      "source": [
        "sns.countplot(x='Gender', data=eda)\n"
      ]
    },
    {
      "cell_type": "code",
      "execution_count": null,
      "metadata": {
        "id": "nG7i8IsvTeEj",
        "outputId": "c28f0109-f916-40c6-9fe5-dd339cb19b92"
      },
      "outputs": [],
      "source": [
        "sns.countplot(x='Rural_Urban', data=eda)\n"
      ]
    },
    {
      "cell_type": "code",
      "execution_count": null,
      "metadata": {
        "id": "gBJz5dBcTeEn",
        "outputId": "738b7b68-4a9b-4c65-a98c-328ab45f26b9"
      },
      "outputs": [],
      "source": [
        "sns.countplot(y='Mother Tongue',orient= 'h', data=eda)\n"
      ]
    },
    {
      "cell_type": "code",
      "execution_count": null,
      "metadata": {
        "id": "ZzKKNEM-TeEq",
        "outputId": "0ade4e80-0fd1-45f2-fd39-f5d2bbed268b"
      },
      "outputs": [],
      "source": [
        "sns.countplot(x='Employment Status', data=eda)\n"
      ]
    },
    {
      "cell_type": "code",
      "execution_count": null,
      "metadata": {
        "id": "t1aFIIaMTeEt",
        "outputId": "d8351dc8-9659-46ca-b368-71fe84eaccc7"
      },
      "outputs": [],
      "source": [
        "sns.countplot(x='Annual Income', data=eda)\n"
      ]
    },
    {
      "cell_type": "code",
      "execution_count": null,
      "metadata": {
        "id": "o4PyCxBPTeEv",
        "outputId": "328a5eb6-c77d-4354-de8c-41a8d246fab8"
      },
      "outputs": [],
      "source": [
        "sns.countplot(x='Education', data=eda)\n"
      ]
    },
    {
      "cell_type": "code",
      "execution_count": null,
      "metadata": {
        "id": "lwvQutFeTeEz",
        "outputId": "ea2b472c-8f24-4c86-a4e8-b4977b7935da"
      },
      "outputs": [],
      "source": [
        "sns.countplot(x='Marital Status', data=eda)\n"
      ]
    },
    {
      "cell_type": "code",
      "execution_count": null,
      "metadata": {
        "id": "LlSQZFX3TeE2",
        "outputId": "f6e4a3c5-6141-4cdf-a75d-6b68ddda6942"
      },
      "outputs": [],
      "source": [
        "sns.countplot(y='Region', data=eda)\n"
      ]
    },
    {
      "cell_type": "code",
      "execution_count": null,
      "metadata": {
        "id": "tK9ep-EkTeE4",
        "outputId": "c8f74515-adc6-419b-eba9-f0e28c01172a"
      },
      "outputs": [],
      "source": [
        "sns.countplot(x='Religion', data=eda)\n"
      ]
    },
    {
      "cell_type": "code",
      "execution_count": null,
      "metadata": {
        "id": "_cg8OU4qTeE6",
        "outputId": "9821c6b6-aad8-4f94-c653-72f2cdbc7d64"
      },
      "outputs": [],
      "source": [
        "sns.countplot(y='Disease', data=eda)\n"
      ]
    },
    {
      "cell_type": "code",
      "execution_count": null,
      "metadata": {
        "id": "iFqhJ0-gTeE8",
        "outputId": "5841a285-0a27-43d4-c1dc-02d3b767df60"
      },
      "outputs": [],
      "source": [
        "sns.countplot(x='Vaccination status', data=eda)\n"
      ]
    },
    {
      "cell_type": "code",
      "execution_count": null,
      "metadata": {
        "id": "KxPbV-43TeE9",
        "outputId": "8d22c86c-56b3-4c62-8321-dec9b177a89b"
      },
      "outputs": [],
      "source": [
        "sns.countplot(x='Digital connectivity', data=eda)\n"
      ]
    },
    {
      "cell_type": "code",
      "execution_count": null,
      "metadata": {
        "id": "GKOf73nHTeE_",
        "outputId": "40565eed-630d-4dd4-cc7e-2ff7a64451e4"
      },
      "outputs": [],
      "source": [
        "sns.countplot(y='Field of employment', data=eda)"
      ]
    },
    {
      "cell_type": "code",
      "execution_count": null,
      "metadata": {
        "id": "m1HJlQOGTeFE",
        "outputId": "75ea56c8-01f7-46b1-9bbe-7c038ea1266b"
      },
      "outputs": [],
      "source": [
        "sns.countplot(y='Number of members in familty', data=eda)"
      ]
    },
    {
      "cell_type": "code",
      "execution_count": null,
      "metadata": {
        "id": "_VZv6Y8zTeFJ",
        "outputId": "203ae912-bc85-4771-cdbc-94d71ca3a99b"
      },
      "outputs": [],
      "source": [
        "pd.crosstab(eda['Field of employment'],eda['Gender']).plot(kind='bar',stacked=True)"
      ]
    },
    {
      "cell_type": "code",
      "execution_count": null,
      "metadata": {
        "id": "dO3RRd-BTeFK",
        "outputId": "57ef6a75-c5b0-4ada-d222-7f06bdd2e7f2"
      },
      "outputs": [],
      "source": [
        "pd.crosstab(eda['Digital connectivity'],eda['Gender']).plot(kind='bar',stacked=True)"
      ]
    },
    {
      "cell_type": "code",
      "execution_count": null,
      "metadata": {
        "id": "Ynj8NwB0TeFL",
        "outputId": "af8b41d5-670d-466b-df1b-5f167dc9d414"
      },
      "outputs": [],
      "source": [
        "pd.crosstab(eda['Marital Status'],eda['Gender']).plot(kind='bar',stacked=True)\n"
      ]
    },
    {
      "cell_type": "code",
      "execution_count": null,
      "metadata": {
        "id": "GDkTeYGkTeFM",
        "outputId": "b8a1f8a1-675c-4e85-d56a-b834dc1f635a"
      },
      "outputs": [],
      "source": [
        "pd.crosstab(eda['Vaccination status'],eda['Gender']).plot(kind='bar',stacked=True)\n"
      ]
    },
    {
      "cell_type": "code",
      "execution_count": null,
      "metadata": {
        "id": "L6tK_Nb8TeFN",
        "outputId": "de1baa52-403a-4904-cfcd-f2441f8692c9"
      },
      "outputs": [],
      "source": [
        "pd.crosstab(eda['Disease'],eda['Gender']).plot(kind='bar',stacked=True)\n"
      ]
    },
    {
      "cell_type": "code",
      "execution_count": null,
      "metadata": {
        "id": "7D-uCz8ETeFO",
        "outputId": "75aebd5b-b187-4be8-ffcf-19f6c949213a"
      },
      "outputs": [],
      "source": [
        "pd.crosstab(eda['Religion'],eda['Gender']).plot(kind='bar',stacked=True)\n"
      ]
    },
    {
      "cell_type": "code",
      "execution_count": null,
      "metadata": {
        "id": "TgOHbfFYTeFP",
        "outputId": "b521e931-2619-4bad-f5f0-101ca648ed2d"
      },
      "outputs": [],
      "source": [
        "pd.crosstab(eda['Education'],eda['Gender']).plot(kind='bar',stacked=True)"
      ]
    },
    {
      "cell_type": "code",
      "execution_count": null,
      "metadata": {
        "id": "T16Cj8jNTeFQ",
        "outputId": "ffe6b560-b1ae-4493-8fac-e4f44a75593b"
      },
      "outputs": [],
      "source": [
        "pd.crosstab(eda['Rural_Urban'],eda['Gender']).plot(kind='bar',stacked=True)"
      ]
    },
    {
      "cell_type": "code",
      "execution_count": null,
      "metadata": {
        "id": "TYkI-8ubTeFT",
        "outputId": "60556093-3afb-4fcb-9e58-b7a827a675a0"
      },
      "outputs": [],
      "source": [
        "pd.crosstab(eda['Employment Status'],eda['Gender']).plot(kind='bar',stacked=True)\n"
      ]
    },
    {
      "cell_type": "code",
      "execution_count": null,
      "metadata": {
        "id": "I3KZrXUCTeFV",
        "outputId": "7dcec2c5-705e-4437-9658-21c54e7591a6"
      },
      "outputs": [],
      "source": [
        "pd.crosstab(eda['Annual Income'],eda['Gender']).plot(kind='bar',stacked=True)\n"
      ]
    },
    {
      "cell_type": "code",
      "execution_count": null,
      "metadata": {
        "id": "iD9zFtzBTeFX",
        "outputId": "5056f2cd-b84d-4313-b0b7-18b4c4861704"
      },
      "outputs": [],
      "source": [
        "pd.crosstab(eda['Mother Tongue'],eda['Gender']).plot(kind='bar',stacked=True)"
      ]
    },
    {
      "cell_type": "code",
      "execution_count": null,
      "metadata": {
        "id": "jHQgFLG1TeFY",
        "outputId": "74cecc78-8afd-45e2-dbd0-692491367af3"
      },
      "outputs": [],
      "source": [
        "pd.crosstab(eda['Region'],eda['Gender']).plot(kind='bar',stacked=True)"
      ]
    },
    {
      "cell_type": "code",
      "execution_count": null,
      "metadata": {
        "id": "XIjNE0-kTeFZ",
        "outputId": "8253907c-d72c-4da2-d756-b52a06cfb422"
      },
      "outputs": [],
      "source": [
        "pd.crosstab(eda['Region'],eda['Education']).plot(kind='bar',stacked=True)\n"
      ]
    },
    {
      "cell_type": "code",
      "execution_count": null,
      "metadata": {
        "id": "pWXj-0mrTeFa",
        "outputId": "253b47c3-4db2-4835-9b6a-7ced205f0d6f"
      },
      "outputs": [],
      "source": [
        "pd.crosstab(eda['Religion'],eda['Education']).plot(kind='bar',stacked=True)\n"
      ]
    },
    {
      "cell_type": "code",
      "execution_count": null,
      "metadata": {
        "id": "YbO8ogMWTeFb",
        "outputId": "457b902d-258e-44d3-e839-39fd78fe0101"
      },
      "outputs": [],
      "source": [
        "pd.crosstab(eda['Marital Status'],eda['Education']).plot(kind='bar',stacked=True)\n"
      ]
    },
    {
      "cell_type": "code",
      "execution_count": null,
      "metadata": {
        "id": "s9QCf0EATeFd",
        "outputId": "e627be0a-f71d-43c4-9018-75032eb0f8c1"
      },
      "outputs": [],
      "source": [
        "pd.crosstab(eda['Annual Income'],eda['Education']).plot(kind='bar',stacked=True)\n"
      ]
    },
    {
      "cell_type": "code",
      "execution_count": null,
      "metadata": {
        "id": "CxRQNeIoTeFf",
        "outputId": "4cb473a8-1463-47b6-960a-6ab14e9cc871"
      },
      "outputs": [],
      "source": [
        "pd.crosstab(eda['Employment Status'],eda['Education']).plot(kind='bar',stacked=True)"
      ]
    }
  ],
  "metadata": {
    "colab": {
      "name": "Census Data Analysis.ipynb",
      "provenance": []
    },
    "kernelspec": {
      "display_name": "Python 3",
      "language": "python",
      "name": "python3"
    },
    "language_info": {
      "codemirror_mode": {
        "name": "ipython",
        "version": 3
      },
      "file_extension": ".py",
      "mimetype": "text/x-python",
      "name": "python",
      "nbconvert_exporter": "python",
      "pygments_lexer": "ipython3",
      "version": "3.10.0"
    }
  },
  "nbformat": 4,
  "nbformat_minor": 0
}
